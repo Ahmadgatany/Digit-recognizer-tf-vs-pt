{
 "cells": [
  {
   "cell_type": "markdown",
   "id": "900618b5",
   "metadata": {
    "papermill": {
     "duration": 0.008651,
     "end_time": "2024-07-12T20:03:52.934738",
     "exception": false,
     "start_time": "2024-07-12T20:03:52.926087",
     "status": "completed"
    },
    "tags": []
   },
   "source": [
    "# ⭐Ahmed Gaitani Code ✨"
   ]
  },
  {
   "cell_type": "markdown",
   "id": "30c2ab15",
   "metadata": {
    "papermill": {
     "duration": 0.007881,
     "end_time": "2024-07-12T20:03:52.951135",
     "exception": false,
     "start_time": "2024-07-12T20:03:52.943254",
     "status": "completed"
    },
    "tags": []
   },
   "source": [
    "# ⭐PyTorch ***Vs*** ⭐TansorFlow"
   ]
  },
  {
   "cell_type": "markdown",
   "id": "e30e7781",
   "metadata": {
    "papermill": {
     "duration": 0.007682,
     "end_time": "2024-07-12T20:03:52.967594",
     "exception": false,
     "start_time": "2024-07-12T20:03:52.959912",
     "status": "completed"
    },
    "tags": []
   },
   "source": [
    "# 1: Imports"
   ]
  },
  {
   "cell_type": "code",
   "execution_count": 1,
   "id": "14581096",
   "metadata": {
    "execution": {
     "iopub.execute_input": "2024-07-12T20:03:52.986305Z",
     "iopub.status.busy": "2024-07-12T20:03:52.985791Z",
     "iopub.status.idle": "2024-07-12T20:04:20.910563Z",
     "shell.execute_reply": "2024-07-12T20:04:20.908998Z"
    },
    "papermill": {
     "duration": 27.93807,
     "end_time": "2024-07-12T20:04:20.913582",
     "exception": false,
     "start_time": "2024-07-12T20:03:52.975512",
     "status": "completed"
    },
    "tags": []
   },
   "outputs": [
    {
     "name": "stderr",
     "output_type": "stream",
     "text": [
      "2024-07-12 20:03:56.222331: E external/local_xla/xla/stream_executor/cuda/cuda_dnn.cc:9261] Unable to register cuDNN factory: Attempting to register factory for plugin cuDNN when one has already been registered\n",
      "2024-07-12 20:03:56.222593: E external/local_xla/xla/stream_executor/cuda/cuda_fft.cc:607] Unable to register cuFFT factory: Attempting to register factory for plugin cuFFT when one has already been registered\n",
      "2024-07-12 20:03:56.479093: E external/local_xla/xla/stream_executor/cuda/cuda_blas.cc:1515] Unable to register cuBLAS factory: Attempting to register factory for plugin cuBLAS when one has already been registered\n"
     ]
    }
   ],
   "source": [
    "# Imports for TensorFlow and Keras\n",
    "import tensorflow as tf\n",
    "from tensorflow.keras import layers, models\n",
    "from tensorflow.keras.utils import to_categorical\n",
    "\n",
    "# Imports for PyTorch\n",
    "import torch\n",
    "import torch.nn as nn\n",
    "import torch.optim as optim\n",
    "import torchvision.transforms as transforms\n",
    "from torch.utils.data import DataLoader, Dataset\n",
    "import pandas as pd\n",
    "import numpy as np\n",
    "from sklearn.model_selection import train_test_split"
   ]
  },
  {
   "cell_type": "markdown",
   "id": "4de6c917",
   "metadata": {
    "papermill": {
     "duration": 0.007906,
     "end_time": "2024-07-12T20:04:20.929709",
     "exception": false,
     "start_time": "2024-07-12T20:04:20.921803",
     "status": "completed"
    },
    "tags": []
   },
   "source": [
    "# 2: Load and Preprocess the Data"
   ]
  },
  {
   "cell_type": "code",
   "execution_count": 2,
   "id": "c82a5482",
   "metadata": {
    "execution": {
     "iopub.execute_input": "2024-07-12T20:04:20.950029Z",
     "iopub.status.busy": "2024-07-12T20:04:20.948384Z",
     "iopub.status.idle": "2024-07-12T20:04:28.827680Z",
     "shell.execute_reply": "2024-07-12T20:04:28.826477Z"
    },
    "papermill": {
     "duration": 7.892749,
     "end_time": "2024-07-12T20:04:28.830525",
     "exception": false,
     "start_time": "2024-07-12T20:04:20.937776",
     "status": "completed"
    },
    "tags": []
   },
   "outputs": [],
   "source": [
    "# Load data for both TensorFlow and PyTorch\n",
    "train_data = pd.read_csv('/kaggle/input/digit-recognizer/train.csv')\n",
    "test_data = pd.read_csv('/kaggle/input/digit-recognizer/test.csv')\n",
    "\n",
    "# Split data into features and labels\n",
    "x = train_data.iloc[:, 1:].values\n",
    "y = train_data.iloc[:, 0].values\n",
    "\n",
    "# Normalize pixel values\n",
    "x_tf = x / 255.0\n",
    "x_pt = x / 255.0\n",
    "\n",
    "# Reshape data for TensorFlow\n",
    "x_tf = x_tf.reshape(-1, 28, 28, 1)\n",
    "\n",
    "# Reshape data for PyTorch\n",
    "x_pt = x_pt.reshape(-1, 28, 28)\n",
    "\n",
    "# Convert labels to one-hot encoding for TensorFlow\n",
    "y_tf = to_categorical(y)\n",
    "\n",
    "# Split data into training and validation sets\n",
    "x_train_tf, x_val_tf, y_train_tf, y_val_tf = train_test_split(x_tf, y_tf, test_size=0.1, random_state=42)\n",
    "\n",
    "# Create PyTorch datasets and dataloaders\n",
    "class DigitDataset(Dataset):\n",
    "    def __init__(self, data, labels=None, transform=None):\n",
    "        self.data = data\n",
    "        self.labels = labels\n",
    "        self.transform = transform\n",
    "\n",
    "    def __len__(self):\n",
    "        return len(self.data)\n",
    "\n",
    "    def __getitem__(self, idx):\n",
    "        img = self.data[idx].reshape(28, 28, 1).astype('float32')\n",
    "        if self.transform:\n",
    "            img = self.transform(img)\n",
    "        if self.labels is not None:\n",
    "            return img, self.labels[idx]\n",
    "        else:\n",
    "            return img\n",
    "\n",
    "# Define transformations\n",
    "transform = transforms.ToTensor()\n",
    "\n",
    "# Create datasets and dataloaders for PyTorch\n",
    "train_dataset_pt = DigitDataset(x_pt, y, transform=transform)\n",
    "train_loader_pt = DataLoader(train_dataset_pt, batch_size=64, shuffle=True)\n",
    "\n",
    "# Create test dataset and dataloader for PyTorch\n",
    "test_dataset_pt = DigitDataset(test_data.values, transform=transform)\n",
    "test_loader_pt = DataLoader(test_dataset_pt, batch_size=64, shuffle=False)"
   ]
  },
  {
   "cell_type": "markdown",
   "id": "38466ca7",
   "metadata": {
    "papermill": {
     "duration": 0.007825,
     "end_time": "2024-07-12T20:04:28.846590",
     "exception": false,
     "start_time": "2024-07-12T20:04:28.838765",
     "status": "completed"
    },
    "tags": []
   },
   "source": [
    "# 3: Define Models"
   ]
  },
  {
   "cell_type": "markdown",
   "id": "4a6c44c8",
   "metadata": {
    "papermill": {
     "duration": 0.007946,
     "end_time": "2024-07-12T20:04:28.862628",
     "exception": false,
     "start_time": "2024-07-12T20:04:28.854682",
     "status": "completed"
    },
    "tags": []
   },
   "source": [
    "**TensorFlow Model**"
   ]
  },
  {
   "cell_type": "code",
   "execution_count": 3,
   "id": "5bf539c2",
   "metadata": {
    "execution": {
     "iopub.execute_input": "2024-07-12T20:04:28.880791Z",
     "iopub.status.busy": "2024-07-12T20:04:28.880346Z",
     "iopub.status.idle": "2024-07-12T20:04:29.014187Z",
     "shell.execute_reply": "2024-07-12T20:04:29.012313Z"
    },
    "papermill": {
     "duration": 0.146989,
     "end_time": "2024-07-12T20:04:29.017760",
     "exception": false,
     "start_time": "2024-07-12T20:04:28.870771",
     "status": "completed"
    },
    "tags": []
   },
   "outputs": [
    {
     "name": "stderr",
     "output_type": "stream",
     "text": [
      "/opt/conda/lib/python3.10/site-packages/keras/src/layers/convolutional/base_conv.py:107: UserWarning: Do not pass an `input_shape`/`input_dim` argument to a layer. When using Sequential models, prefer using an `Input(shape)` object as the first layer in the model instead.\n",
      "  super().__init__(activity_regularizer=activity_regularizer, **kwargs)\n"
     ]
    }
   ],
   "source": [
    "def create_tf_model():\n",
    "    model = models.Sequential([\n",
    "        layers.Conv2D(32, kernel_size=(3, 3), activation='relu', input_shape=(28, 28, 1)),\n",
    "        layers.MaxPooling2D(pool_size=(2, 2)),\n",
    "        layers.Conv2D(64, kernel_size=(3, 3), activation='relu'),\n",
    "        layers.MaxPooling2D(pool_size=(2, 2)),\n",
    "        layers.Flatten(),\n",
    "        layers.Dense(128, activation='relu'),\n",
    "        layers.Dropout(0.2),\n",
    "        layers.Dense(10, activation='softmax')\n",
    "    ])\n",
    "    return model\n",
    "\n",
    "# Create TensorFlow model\n",
    "model_tf = create_tf_model()"
   ]
  },
  {
   "cell_type": "markdown",
   "id": "c00647e3",
   "metadata": {
    "papermill": {
     "duration": 0.008694,
     "end_time": "2024-07-12T20:04:29.036464",
     "exception": false,
     "start_time": "2024-07-12T20:04:29.027770",
     "status": "completed"
    },
    "tags": []
   },
   "source": [
    "**PyTorch Model**"
   ]
  },
  {
   "cell_type": "code",
   "execution_count": 4,
   "id": "1ffde9af",
   "metadata": {
    "execution": {
     "iopub.execute_input": "2024-07-12T20:04:29.057524Z",
     "iopub.status.busy": "2024-07-12T20:04:29.057038Z",
     "iopub.status.idle": "2024-07-12T20:04:29.130417Z",
     "shell.execute_reply": "2024-07-12T20:04:29.128828Z"
    },
    "papermill": {
     "duration": 0.088167,
     "end_time": "2024-07-12T20:04:29.133847",
     "exception": false,
     "start_time": "2024-07-12T20:04:29.045680",
     "status": "completed"
    },
    "tags": []
   },
   "outputs": [],
   "source": [
    "\n",
    "class DigitModel(nn.Module):\n",
    "    def __init__(self):\n",
    "        super(DigitModel, self).__init__()\n",
    "        self.model = nn.Sequential(\n",
    "            nn.Conv2d(1, 32, kernel_size=3, stride=1, padding=1),\n",
    "            nn.ReLU(),\n",
    "            nn.MaxPool2d(kernel_size=2, stride=2),\n",
    "            nn.Conv2d(32, 64, kernel_size=3, stride=1, padding=1),\n",
    "            nn.ReLU(),\n",
    "            nn.MaxPool2d(kernel_size=2, stride=2),\n",
    "            nn.Flatten(),\n",
    "            nn.Linear(64 * 7 * 7, 128),\n",
    "            nn.ReLU(),\n",
    "            nn.Dropout(0.2),\n",
    "            nn.Linear(128, 10)\n",
    "        )\n",
    "\n",
    "    def forward(self, x):\n",
    "        return self.model(x)\n",
    "\n",
    "# Create PyTorch model instance\n",
    "model_pt = DigitModel()"
   ]
  },
  {
   "cell_type": "markdown",
   "id": "859514b5",
   "metadata": {
    "papermill": {
     "duration": 0.008986,
     "end_time": "2024-07-12T20:04:29.151657",
     "exception": false,
     "start_time": "2024-07-12T20:04:29.142671",
     "status": "completed"
    },
    "tags": []
   },
   "source": [
    "# 4: Compile and Train Models"
   ]
  },
  {
   "cell_type": "markdown",
   "id": "6c3eea70",
   "metadata": {
    "papermill": {
     "duration": 0.008583,
     "end_time": "2024-07-12T20:04:29.169491",
     "exception": false,
     "start_time": "2024-07-12T20:04:29.160908",
     "status": "completed"
    },
    "tags": []
   },
   "source": [
    "**TensorFlow Model**"
   ]
  },
  {
   "cell_type": "code",
   "execution_count": 5,
   "id": "8fa12b84",
   "metadata": {
    "execution": {
     "iopub.execute_input": "2024-07-12T20:04:29.190717Z",
     "iopub.status.busy": "2024-07-12T20:04:29.190301Z",
     "iopub.status.idle": "2024-07-12T20:09:03.544720Z",
     "shell.execute_reply": "2024-07-12T20:09:03.543288Z"
    },
    "papermill": {
     "duration": 274.368617,
     "end_time": "2024-07-12T20:09:03.548383",
     "exception": false,
     "start_time": "2024-07-12T20:04:29.179766",
     "status": "completed"
    },
    "tags": []
   },
   "outputs": [
    {
     "name": "stdout",
     "output_type": "stream",
     "text": [
      "Epoch 1/10\n",
      "\u001b[1m1182/1182\u001b[0m \u001b[32m━━━━━━━━━━━━━━━━━━━━\u001b[0m\u001b[37m\u001b[0m \u001b[1m23s\u001b[0m 18ms/step - accuracy: 0.8664 - loss: 0.4249 - val_accuracy: 0.9788 - val_loss: 0.0703\n",
      "Epoch 2/10\n",
      "\u001b[1m1182/1182\u001b[0m \u001b[32m━━━━━━━━━━━━━━━━━━━━\u001b[0m\u001b[37m\u001b[0m \u001b[1m22s\u001b[0m 18ms/step - accuracy: 0.9791 - loss: 0.0652 - val_accuracy: 0.9852 - val_loss: 0.0468\n",
      "Epoch 3/10\n",
      "\u001b[1m1182/1182\u001b[0m \u001b[32m━━━━━━━━━━━━━━━━━━━━\u001b[0m\u001b[37m\u001b[0m \u001b[1m21s\u001b[0m 18ms/step - accuracy: 0.9862 - loss: 0.0453 - val_accuracy: 0.9857 - val_loss: 0.0438\n",
      "Epoch 4/10\n",
      "\u001b[1m1182/1182\u001b[0m \u001b[32m━━━━━━━━━━━━━━━━━━━━\u001b[0m\u001b[37m\u001b[0m \u001b[1m21s\u001b[0m 17ms/step - accuracy: 0.9902 - loss: 0.0314 - val_accuracy: 0.9850 - val_loss: 0.0482\n",
      "Epoch 5/10\n",
      "\u001b[1m1182/1182\u001b[0m \u001b[32m━━━━━━━━━━━━━━━━━━━━\u001b[0m\u001b[37m\u001b[0m \u001b[1m22s\u001b[0m 18ms/step - accuracy: 0.9915 - loss: 0.0256 - val_accuracy: 0.9881 - val_loss: 0.0383\n",
      "Epoch 6/10\n",
      "\u001b[1m1182/1182\u001b[0m \u001b[32m━━━━━━━━━━━━━━━━━━━━\u001b[0m\u001b[37m\u001b[0m \u001b[1m22s\u001b[0m 18ms/step - accuracy: 0.9936 - loss: 0.0179 - val_accuracy: 0.9876 - val_loss: 0.0410\n",
      "Epoch 7/10\n",
      "\u001b[1m1182/1182\u001b[0m \u001b[32m━━━━━━━━━━━━━━━━━━━━\u001b[0m\u001b[37m\u001b[0m \u001b[1m41s\u001b[0m 18ms/step - accuracy: 0.9941 - loss: 0.0180 - val_accuracy: 0.9898 - val_loss: 0.0371\n",
      "Epoch 8/10\n",
      "\u001b[1m1182/1182\u001b[0m \u001b[32m━━━━━━━━━━━━━━━━━━━━\u001b[0m\u001b[37m\u001b[0m \u001b[1m22s\u001b[0m 19ms/step - accuracy: 0.9956 - loss: 0.0155 - val_accuracy: 0.9890 - val_loss: 0.0433\n",
      "Epoch 9/10\n",
      "\u001b[1m1182/1182\u001b[0m \u001b[32m━━━━━━━━━━━━━━━━━━━━\u001b[0m\u001b[37m\u001b[0m \u001b[1m40s\u001b[0m 18ms/step - accuracy: 0.9957 - loss: 0.0110 - val_accuracy: 0.9905 - val_loss: 0.0330\n",
      "Epoch 10/10\n",
      "\u001b[1m1182/1182\u001b[0m \u001b[32m━━━━━━━━━━━━━━━━━━━━\u001b[0m\u001b[37m\u001b[0m \u001b[1m21s\u001b[0m 18ms/step - accuracy: 0.9969 - loss: 0.0102 - val_accuracy: 0.9890 - val_loss: 0.0366\n"
     ]
    }
   ],
   "source": [
    "# Compile TensorFlow model\n",
    "model_tf.compile(optimizer='adam',\n",
    "                 loss='categorical_crossentropy',\n",
    "                 metrics=['accuracy'])\n",
    "\n",
    "# Train TensorFlow model\n",
    "history_tf = model_tf.fit(x_train_tf, y_train_tf, epochs=10, validation_data=(x_val_tf, y_val_tf))"
   ]
  },
  {
   "cell_type": "markdown",
   "id": "c8aea40e",
   "metadata": {
    "papermill": {
     "duration": 0.358672,
     "end_time": "2024-07-12T20:09:04.264606",
     "exception": false,
     "start_time": "2024-07-12T20:09:03.905934",
     "status": "completed"
    },
    "tags": []
   },
   "source": [
    "**PyTorch Model**"
   ]
  },
  {
   "cell_type": "code",
   "execution_count": 6,
   "id": "afc60dc3",
   "metadata": {
    "execution": {
     "iopub.execute_input": "2024-07-12T20:09:04.987755Z",
     "iopub.status.busy": "2024-07-12T20:09:04.987331Z",
     "iopub.status.idle": "2024-07-12T20:13:59.923747Z",
     "shell.execute_reply": "2024-07-12T20:13:59.922609Z"
    },
    "papermill": {
     "duration": 295.665713,
     "end_time": "2024-07-12T20:14:00.286150",
     "exception": false,
     "start_time": "2024-07-12T20:09:04.620437",
     "status": "completed"
    },
    "tags": []
   },
   "outputs": [
    {
     "name": "stdout",
     "output_type": "stream",
     "text": [
      "Epoch [1/10], Loss: 0.2462\n",
      "Epoch [2/10], Loss: 0.0668\n",
      "Epoch [3/10], Loss: 0.0467\n",
      "Epoch [4/10], Loss: 0.0370\n",
      "Epoch [5/10], Loss: 0.0314\n",
      "Epoch [6/10], Loss: 0.0249\n",
      "Epoch [7/10], Loss: 0.0219\n",
      "Epoch [8/10], Loss: 0.0172\n",
      "Epoch [9/10], Loss: 0.0175\n",
      "Epoch [10/10], Loss: 0.0136\n"
     ]
    }
   ],
   "source": [
    "# Check for GPU availability\n",
    "device = torch.device('cuda' if torch.cuda.is_available() else 'cpu')\n",
    "model_pt.to(device)\n",
    "\n",
    "# Define loss function and optimizer for PyTorch\n",
    "criterion_pt = nn.CrossEntropyLoss()\n",
    "optimizer_pt = optim.Adam(model_pt.parameters(), lr=0.001)\n",
    "\n",
    "# Training loop for PyTorch model\n",
    "num_epochs = 10\n",
    "for epoch in range(num_epochs):\n",
    "    model_pt.train()\n",
    "    running_loss = 0.0\n",
    "    for imgs, labels in train_loader_pt:\n",
    "        imgs, labels = imgs.to(device), labels.to(device)\n",
    "        optimizer_pt.zero_grad()\n",
    "        outputs = model_pt(imgs)\n",
    "        loss = criterion_pt(outputs, labels)\n",
    "        loss.backward()\n",
    "        optimizer_pt.step()\n",
    "        running_loss += loss.item()\n",
    "    \n",
    "    print(f'Epoch [{epoch + 1}/{num_epochs}], Loss: {running_loss / len(train_loader_pt):.4f}')\n",
    "    "
   ]
  },
  {
   "cell_type": "markdown",
   "id": "8fb1299b",
   "metadata": {
    "papermill": {
     "duration": 0.352817,
     "end_time": "2024-07-12T20:14:00.990564",
     "exception": false,
     "start_time": "2024-07-12T20:14:00.637747",
     "status": "completed"
    },
    "tags": []
   },
   "source": [
    "# 5: Evaluate and Predict"
   ]
  },
  {
   "cell_type": "markdown",
   "id": "0f5af02f",
   "metadata": {
    "papermill": {
     "duration": 0.353441,
     "end_time": "2024-07-12T20:14:01.700972",
     "exception": false,
     "start_time": "2024-07-12T20:14:01.347531",
     "status": "completed"
    },
    "tags": []
   },
   "source": [
    "**TensorFlow model**"
   ]
  },
  {
   "cell_type": "code",
   "execution_count": 7,
   "id": "456939bc",
   "metadata": {
    "execution": {
     "iopub.execute_input": "2024-07-12T20:14:02.495187Z",
     "iopub.status.busy": "2024-07-12T20:14:02.494759Z",
     "iopub.status.idle": "2024-07-12T20:14:10.233417Z",
     "shell.execute_reply": "2024-07-12T20:14:10.231684Z"
    },
    "papermill": {
     "duration": 8.108927,
     "end_time": "2024-07-12T20:14:10.236594",
     "exception": false,
     "start_time": "2024-07-12T20:14:02.127667",
     "status": "completed"
    },
    "tags": []
   },
   "outputs": [
    {
     "name": "stdout",
     "output_type": "stream",
     "text": [
      "\u001b[1m132/132\u001b[0m \u001b[32m━━━━━━━━━━━━━━━━━━━━\u001b[0m\u001b[37m\u001b[0m \u001b[1m1s\u001b[0m 7ms/step - accuracy: 0.9883 - loss: 0.0348\n",
      "TensorFlow Validation Loss: 0.03658213093876839, Validation Accuracy: 0.989047646522522\n",
      "\u001b[1m875/875\u001b[0m \u001b[32m━━━━━━━━━━━━━━━━━━━━\u001b[0m\u001b[37m\u001b[0m \u001b[1m6s\u001b[0m 7ms/step\n",
      "TensorFlow Predictions:\n",
      "[2 0 9 ... 3 9 2]\n"
     ]
    }
   ],
   "source": [
    "# Evaluate TensorFlow model on validation data\n",
    "val_loss_tf, val_acc_tf = model_tf.evaluate(x_val_tf, y_val_tf)\n",
    "print(f'TensorFlow Validation Loss: {val_loss_tf}, Validation Accuracy: {val_acc_tf}')\n",
    "\n",
    "# Make predictions on test data using TensorFlow model\n",
    "predictions_tf = model_tf.predict(test_data.values.reshape(-1, 28, 28, 1) / 255.0)\n",
    "predicted_labels_tf = np.argmax(predictions_tf, axis=1)\n",
    "\n",
    "# Print TensorFlow predictions\n",
    "print(\"TensorFlow Predictions:\")\n",
    "print(predicted_labels_tf)"
   ]
  },
  {
   "cell_type": "markdown",
   "id": "ba2c7c64",
   "metadata": {
    "papermill": {
     "duration": 0.372588,
     "end_time": "2024-07-12T20:14:11.000384",
     "exception": false,
     "start_time": "2024-07-12T20:14:10.627796",
     "status": "completed"
    },
    "tags": []
   },
   "source": [
    "**PyTorch Model**"
   ]
  },
  {
   "cell_type": "code",
   "execution_count": 8,
   "id": "f5d85d64",
   "metadata": {
    "execution": {
     "iopub.execute_input": "2024-07-12T20:14:11.736710Z",
     "iopub.status.busy": "2024-07-12T20:14:11.736326Z",
     "iopub.status.idle": "2024-07-12T20:14:33.348493Z",
     "shell.execute_reply": "2024-07-12T20:14:33.347469Z"
    },
    "papermill": {
     "duration": 21.981827,
     "end_time": "2024-07-12T20:14:33.351696",
     "exception": false,
     "start_time": "2024-07-12T20:14:11.369869",
     "status": "completed"
    },
    "tags": []
   },
   "outputs": [
    {
     "name": "stdout",
     "output_type": "stream",
     "text": [
      "PyTorch Model Accuracy on Training Data: 99.68%\n"
     ]
    }
   ],
   "source": [
    "# Evaluation on validation data for PyTorch model\n",
    "model_pt.eval()\n",
    "correct = 0\n",
    "total = 0\n",
    "with torch.no_grad():\n",
    "    for imgs, labels in train_loader_pt:\n",
    "        imgs, labels = imgs.to(device), labels.to(device)\n",
    "        outputs = model_pt(imgs)\n",
    "        _, predicted = torch.max(outputs.data, 1)\n",
    "        total += labels.size(0)\n",
    "        correct += (predicted == labels).sum().item()\n",
    "\n",
    "print(f'PyTorch Model Accuracy on Training Data: {100 * correct / total:.2f}%')\n",
    "\n",
    "\n",
    "# Make predictions on test data using PyTorch model\n",
    "model_pt.eval()\n",
    "predictions_pt = []\n",
    "with torch.no_grad():\n",
    "    for imgs in test_loader_pt:  # Use test_loader_pt here\n",
    "        imgs = imgs.to(device)\n",
    "        outputs = model_pt(imgs)\n",
    "        _, predicted = torch.max(outputs, 1)\n",
    "        predictions_pt.extend(predicted.cpu().numpy())\n",
    "\n",
    "# Ensure predictions_pt has 28000 rows\n",
    "assert len(predictions_pt) == 28000, \"Number of predictions should be 28000\"\n"
   ]
  },
  {
   "cell_type": "markdown",
   "id": "8bfff4b2",
   "metadata": {
    "papermill": {
     "duration": 0.366341,
     "end_time": "2024-07-12T20:14:34.085018",
     "exception": false,
     "start_time": "2024-07-12T20:14:33.718677",
     "status": "completed"
    },
    "tags": []
   },
   "source": [
    "# 6: Prepare Submission"
   ]
  },
  {
   "cell_type": "markdown",
   "id": "622fa5b2",
   "metadata": {
    "papermill": {
     "duration": 0.3595,
     "end_time": "2024-07-12T20:14:34.875899",
     "exception": false,
     "start_time": "2024-07-12T20:14:34.516399",
     "status": "completed"
    },
    "tags": []
   },
   "source": [
    "**TensorFlow model**"
   ]
  },
  {
   "cell_type": "code",
   "execution_count": 9,
   "id": "98754a06",
   "metadata": {
    "execution": {
     "iopub.execute_input": "2024-07-12T20:14:35.606240Z",
     "iopub.status.busy": "2024-07-12T20:14:35.605781Z",
     "iopub.status.idle": "2024-07-12T20:14:35.669504Z",
     "shell.execute_reply": "2024-07-12T20:14:35.668168Z"
    },
    "papermill": {
     "duration": 0.43307,
     "end_time": "2024-07-12T20:14:35.672436",
     "exception": false,
     "start_time": "2024-07-12T20:14:35.239366",
     "status": "completed"
    },
    "tags": []
   },
   "outputs": [],
   "source": [
    "# Prepare submission for TensorFlow model\n",
    "submission_tf = pd.DataFrame({'ImageId': list(range(1, len(predicted_labels_tf) + 1)),\n",
    "                              'Label': predicted_labels_tf})\n",
    "submission_tf.to_csv('submission_tf.csv', index=False)"
   ]
  },
  {
   "cell_type": "markdown",
   "id": "439aa005",
   "metadata": {
    "papermill": {
     "duration": 0.42664,
     "end_time": "2024-07-12T20:14:36.485690",
     "exception": false,
     "start_time": "2024-07-12T20:14:36.059050",
     "status": "completed"
    },
    "tags": []
   },
   "source": [
    "**PyTorch model**"
   ]
  },
  {
   "cell_type": "code",
   "execution_count": 10,
   "id": "1dc96857",
   "metadata": {
    "execution": {
     "iopub.execute_input": "2024-07-12T20:14:37.221663Z",
     "iopub.status.busy": "2024-07-12T20:14:37.221166Z",
     "iopub.status.idle": "2024-07-12T20:14:37.387604Z",
     "shell.execute_reply": "2024-07-12T20:14:37.386446Z"
    },
    "papermill": {
     "duration": 0.54169,
     "end_time": "2024-07-12T20:14:37.390383",
     "exception": false,
     "start_time": "2024-07-12T20:14:36.848693",
     "status": "completed"
    },
    "tags": []
   },
   "outputs": [],
   "source": [
    "# Prepare submission for PyTorch model\n",
    "submission_pt = pd.DataFrame({'ImageId': list(range(1, len(predictions_pt) + 1)),\n",
    "                              'Label': predictions_pt})\n",
    "submission_pt.to_csv('submission_pt.csv', index=False)"
   ]
  },
  {
   "cell_type": "code",
   "execution_count": null,
   "id": "087e1b0a",
   "metadata": {
    "papermill": {
     "duration": 0.367768,
     "end_time": "2024-07-12T20:14:38.187279",
     "exception": false,
     "start_time": "2024-07-12T20:14:37.819511",
     "status": "completed"
    },
    "tags": []
   },
   "outputs": [],
   "source": []
  }
 ],
 "metadata": {
  "kaggle": {
   "accelerator": "none",
   "dataSources": [
    {
     "databundleVersionId": 861823,
     "sourceId": 3004,
     "sourceType": "competition"
    }
   ],
   "dockerImageVersionId": 30732,
   "isGpuEnabled": false,
   "isInternetEnabled": true,
   "language": "python",
   "sourceType": "notebook"
  },
  "kernelspec": {
   "display_name": "Python 3",
   "language": "python",
   "name": "python3"
  },
  "language_info": {
   "codemirror_mode": {
    "name": "ipython",
    "version": 3
   },
   "file_extension": ".py",
   "mimetype": "text/x-python",
   "name": "python",
   "nbconvert_exporter": "python",
   "pygments_lexer": "ipython3",
   "version": "3.10.13"
  },
  "papermill": {
   "default_parameters": {},
   "duration": 651.917926,
   "end_time": "2024-07-12T20:14:41.274728",
   "environment_variables": {},
   "exception": null,
   "input_path": "__notebook__.ipynb",
   "output_path": "__notebook__.ipynb",
   "parameters": {},
   "start_time": "2024-07-12T20:03:49.356802",
   "version": "2.5.0"
  }
 },
 "nbformat": 4,
 "nbformat_minor": 5
}
